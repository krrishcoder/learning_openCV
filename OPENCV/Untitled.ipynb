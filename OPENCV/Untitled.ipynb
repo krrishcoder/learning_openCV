{
 "cells": [
  {
   "cell_type": "code",
   "execution_count": 7,
   "id": "70da3fef",
   "metadata": {},
   "outputs": [
    {
     "name": "stdout",
     "output_type": "stream",
     "text": [
      "training done ---------------\n",
      "caught exception\n",
      "module 'cv2' has no attribute 'face'\n"
     ]
    }
   ],
   "source": [
    "import os\n",
    "import cv2 as cv \n",
    "import numpy as np \n",
    "import face_recognition\n",
    "\n",
    "# label -->  0   ,   1\n",
    "people = ['krishna','chetan']\n",
    "\n",
    "\n",
    "DIR = r'/Users/rajkumar/Downloads'\n",
    "\n",
    "features = []\n",
    "labels = []\n",
    "\n",
    "haar_cascade = cv.CascadeClassifier('haar_face.xml')   # object detection algorithm \n",
    "\n",
    "\n",
    "i = 0\n",
    "def create_train() :\n",
    "    global i\n",
    "    for person in people:\n",
    "        path = os.path.join(DIR,person)   # since  folder name is same as person name\n",
    "        label = people.index(person)\n",
    "\n",
    "        for img in os.listdir(path):             \n",
    "            img_path = os.path.join(path,img)\n",
    "\n",
    "            img_arr = cv.imread(img_path)\n",
    "            gray = cv.cvtColor(img_arr , cv.COLOR_BGR2GRAY)\n",
    "            # cv.imshow(str(i),gray)\n",
    "\n",
    "            i +=1\n",
    "\n",
    "            faces_rect = haar_cascade.detectMultiScale(gray,scaleFactor=1.1,minNeighbors=4)\n",
    "\n",
    "            for (x,y,w,h) in faces_rect :\n",
    "                faces_region = gray[y:y+h,x:x+w]\n",
    "                features.append(faces_region)\n",
    "                labels.append(label)\n",
    "\n",
    "\n",
    "\n",
    "create_train()\n",
    "print(\"training done ---------------\")\n",
    "\n",
    "\n",
    "try:\n",
    "    face_recognizer = cv.face.LBPHFaceRecognizer_create()\n",
    "\n",
    "    features = np.array(features , dtype='object')\n",
    "    labels = np.array(labels, dtype='uint8')\n",
    "\n",
    "\n",
    "# train the recognizer  on the features list and the labels list\n",
    "    \n",
    "    print(labels)\n",
    "    print(len(labels))\n",
    "    print(len(features))\n",
    "\n",
    "\n",
    "    face_recognizer.train(features,labels)\n",
    "\n",
    "    face_recognizer.save('face_trained.yml')\n",
    "    np.save('features.npy', features)\n",
    "    np.save('labels.npy', labels)\n",
    "\n",
    "except Exception as e:\n",
    "    print(\"caught exception\")\n",
    "    print(e)\n"
   ]
  },
  {
   "cell_type": "code",
   "execution_count": null,
   "id": "c8afc341",
   "metadata": {},
   "outputs": [],
   "source": [
    "\n",
    "!pip install face_recognition\n"
   ]
  },
  {
   "cell_type": "code",
   "execution_count": null,
   "id": "a3e3459b",
   "metadata": {},
   "outputs": [],
   "source": []
  },
  {
   "cell_type": "code",
   "execution_count": null,
   "id": "23146e0d",
   "metadata": {},
   "outputs": [],
   "source": []
  }
 ],
 "metadata": {
  "kernelspec": {
   "display_name": "Python 3 (ipykernel)",
   "language": "python",
   "name": "python3"
  },
  "language_info": {
   "codemirror_mode": {
    "name": "ipython",
    "version": 3
   },
   "file_extension": ".py",
   "mimetype": "text/x-python",
   "name": "python",
   "nbconvert_exporter": "python",
   "pygments_lexer": "ipython3",
   "version": "3.11.5"
  }
 },
 "nbformat": 4,
 "nbformat_minor": 5
}
